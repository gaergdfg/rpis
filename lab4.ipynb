{
 "cells": [
  {
   "cell_type": "code",
   "execution_count": 2,
   "metadata": {},
   "outputs": [],
   "source": [
    "import math\n",
    "import numpy as np\n",
    "import matplotlib.pyplot as plt\n",
    "import random"
   ]
  },
  {
   "cell_type": "code",
   "execution_count": 126,
   "metadata": {},
   "outputs": [],
   "source": [
    "N = 1000\n",
    "\n",
    "x = np.random.random(N)\n",
    "y = np.random.random(N)\n",
    "\n",
    "x_2 = (x * 20 - 10)[:10]\n",
    "y_2 = (x * 20 - 10)[:10]"
   ]
  },
  {
   "cell_type": "code",
   "execution_count": 127,
   "metadata": {},
   "outputs": [],
   "source": [
    "def dosw(n, offset): # Zad 4a\n",
    "    x = np.random.random(n)\n",
    "    y = np.random.random(n)\n",
    "\n",
    "    x_2 = (x * 2 * offset - offset)\n",
    "    y_2 = (y * 2 * offset - offset)\n",
    "    \n",
    "    good_i = x_2 ** 2 + y_2 ** 2 <= 1\n",
    "    \n",
    "    return 4 * np.count_nonzero(good_i) / n"
   ]
  },
  {
   "cell_type": "code",
   "execution_count": 131,
   "metadata": {},
   "outputs": [
    {
     "data": {
      "image/png": "[encoded data removed]",
      "text/plain": [
       "<Figure size 432x288 with 1 Axes>"
      ]
     },
     "metadata": {
      "needs_background": "light"
     },
     "output_type": "display_data"
    },
    {
     "data": {
      "image/png": "[encoded data removed]",
      "text/plain": [
       "<Figure size 432x288 with 1 Axes>"
      ]
     },
     "metadata": {
      "needs_background": "light"
     },
     "output_type": "display_data"
    }
   ],
   "source": [
    "N = 1000\n",
    "pi = [dosw(10000, 1) for i in range(N)]\n",
    "plt.hist(pi, bins = 30)\n",
    "plt.show()\n",
    "\n",
    "pi_2 = [100 * dosw(10000, 10) for i in range(N)]\n",
    "plt.hist(pi_2, bins = np.arange(2.15, 4.15, 0.05))\n",
    "plt.show()"
   ]
  },
  {
   "cell_type": "code",
   "execution_count": 187,
   "metadata": {},
   "outputs": [],
   "source": [
    "def dosw_b(n): # Zad 4b\n",
    "    x = np.random.uniform(-1, 1, n)\n",
    "    x_2 = (1 - x ** 2) ** (1 / 2)\n",
    "    \n",
    "    return 4 * np.mean(x_2)"
   ]
  },
  {
   "cell_type": "code",
   "execution_count": 189,
   "metadata": {},
   "outputs": [
    {
     "data": {
      "image/png": "[encoded data removed]",
      "text/plain": [
       "<Figure size 432x288 with 1 Axes>"
      ]
     },
     "metadata": {
      "needs_background": "light"
     },
     "output_type": "display_data"
    }
   ],
   "source": [
    "N = 1000\n",
    "pi_3 = [dosw_b(10000) for _ in range(N)]\n",
    "plt.hist(pi_3, bins = 40)\n",
    "plt.show()"
   ]
  },
  {
   "cell_type": "code",
   "execution_count": null,
   "metadata": {},
   "outputs": [],
   "source": [
    "# Zad 4c\n",
    "clause = phi[0]\n",
    "(valuating[np.abs(clause) - 1] * clause > 0).all()"
   ]
  }
 ],
 "metadata": {
  "kernelspec": {
   "display_name": "Python 3",
   "language": "python",
   "name": "python3"
  },
  "language_info": {
   "codemirror_mode": {
    "name": "ipython",
    "version": 3
   },
   "file_extension": ".py",
   "mimetype": "text/x-python",
   "name": "python",
   "nbconvert_exporter": "python",
   "pygments_lexer": "ipython3",
   "version": "3.6.9"
  }
 },
 "nbformat": 4,
 "nbformat_minor": 4
}
