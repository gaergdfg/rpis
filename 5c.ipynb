{
 "cells": [
  {
   "cell_type": "code",
   "execution_count": 34,
   "metadata": {},
   "outputs": [
    {
     "name": "stdout",
     "output_type": "stream",
     "text": [
      "Mozemy odrzucic hipoteze zerowa\n",
      "Mozemy odrzucic hipoteze zerowa\n"
     ]
    }
   ],
   "source": [
    "import numpy as np\n",
    "import scipy.stats\n",
    "\n",
    "\n",
    "THRESHOLD = 0.05\n",
    "\n",
    "# Rows: women, men\n",
    "# Columns: PiS, PO, Kukiz, Nowoczesna, Lewica, PSL, Razem, KORWiN\n",
    "#data = np.array([ [39.7,26.4,7.5,7.1,6.6,5.0,4.2,2.8], \n",
    "#                  [38.5,20.3,10.6,7.1,6.6,5.4,3.5,7.1]])\n",
    "data = np.array([[ 17508, 11642,  3308,  3131,  2911,  2205,  1852, 1235],\n",
    "                 [ 17672,  9318,  4865,  3259,  3029,  2479,  1606, 3259]])\n",
    "\n",
    "rows_init, columns_init = data.shape\n",
    "\n",
    "\n",
    "def f(row_totals, col_totals, N, i, j):\n",
    "    return row_totals[i] * col_totals[j] / N\n",
    "\n",
    "def f_2(f_arr, i, j):\n",
    "    return ((f_arr[i][j] - data[i][j]) ** 2) / f_arr[i][j]\n",
    "\n",
    "\n",
    "def test(rows, columns):\n",
    "    data_temp = data[:rows][:columns]\n",
    "    \n",
    "    row_totals = [sum(data_temp[i][j] for j in range(columns)) for i in range(rows)]\n",
    "    col_totals = [sum(data_temp[i][j] for i in range(rows)) for j in range(columns)]\n",
    "    N = sum(data[i][j] for i in range(rows) for j in range(columns))\n",
    "\n",
    "    f_arr = [[f(row_totals, col_totals, N, i, j) for j in range(columns)] for i in range(rows)]\n",
    "\n",
    "    S = sum(f_2(f_arr, i, j) for i in range(rows) for j in range(columns))\n",
    "    degrees_of_freedom = (rows - 1) * (columns - 1)\n",
    "\n",
    "    if (1 - scipy.stats.chi2.cdf(S, degrees_of_freedom) < THRESHOLD):\n",
    "        print(\"Mozemy odrzucic hipoteze zerowa\")\n",
    "    else:\n",
    "        print(\"Nie mamy podstaw, by odrzucic hipoteze zerowa\")\n",
    "\n",
    "\n",
    "test(rows_init, columns_init)\n",
    "test(rows_init, columns_init - 1)"
   ]
  }
 ],
 "metadata": {
  "kernelspec": {
   "display_name": "Python 3",
   "language": "python",
   "name": "python3"
  },
  "language_info": {
   "codemirror_mode": {
    "name": "ipython",
    "version": 3
   },
   "file_extension": ".py",
   "mimetype": "text/x-python",
   "name": "python",
   "nbconvert_exporter": "python",
   "pygments_lexer": "ipython3",
   "version": "3.6.9"
  }
 },
 "nbformat": 4,
 "nbformat_minor": 4
}
