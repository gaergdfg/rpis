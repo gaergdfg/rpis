{
 "cells": [
  {
   "cell_type": "code",
   "execution_count": 2,
   "metadata": {},
   "outputs": [],
   "source": [
    "import numpy as np\n",
    "import pandas as pd\n",
    "import matplotlib.pyplot as plt"
   ]
  },
  {
   "cell_type": "code",
   "execution_count": 3,
   "metadata": {},
   "outputs": [],
   "source": [
    "da = pd.read_csv('us_births_69_88.csv')\n",
    "#remove error dates\n",
    "error_dates = [(day, month) for (month,day) in [(2,30), (2,31), (4,31), (6,31), (4,31), (6,31), (9,31), (11,31)]]#\n",
    "da.drop([i for i in da.index if (da.loc[i, 'day'], da.loc[i, 'month']) in error_dates], inplace=True)\n",
    "births_emp = np.array(da['births'])\n",
    "births_emp = births_emp * len(births_emp)\n",
    "births_mean = np.mean(births_emp)"
   ]
  },
  {
   "cell_type": "code",
   "execution_count": 4,
   "metadata": {},
   "outputs": [],
   "source": [
    "# prepare buckets for sampling\n",
    "buckets = [(i, -1, births_emp[i]) for i in range(len(births_emp))]\n",
    "\n",
    "for x in range(len(buckets)):\n",
    "    for a in range(len(buckets)):\n",
    "        if births_emp[a] < births_mean:\n",
    "            for b in range(len(buckets)):\n",
    "                if births_emp[b] > births_mean:\n",
    "                    buckets[b] = (buckets[b][0], buckets[b][1], buckets[b][1] - (births_mean - buckets[a][1]))\n",
    "                    buckets[a] = (buckets[a][0], b, buckets[a][2])\n",
    "                    break\n"
   ]
  },
  {
   "cell_type": "code",
   "execution_count": 5,
   "metadata": {
    "scrolled": true
   },
   "outputs": [],
   "source": [
    "N = 100000\n",
    "N = 24 * N\n",
    "bucket_pos = np.random.randint(0, len(births_emp), N)\n",
    "bucket_births_threshold = np.random.randint(0, births_mean, N)\n",
    "\n",
    "days = np.zeros(N)\n",
    "for i in range(len(bucket_pos)):\n",
    "    if bucket_births_threshold[i] <= buckets[bucket_pos[i]][2]:\n",
    "        days[i] = buckets[bucket_pos[i]][0]\n",
    "    else:\n",
    "        days[i] = buckets[bucket_pos[i]][1]\n"
   ]
  },
  {
   "cell_type": "code",
   "execution_count": 7,
   "metadata": {},
   "outputs": [],
   "source": [
    "def sample_until_repeat_bucket(days):\n",
    "    results = []\n",
    "    currGroup = set()\n",
    "    for day in days:\n",
    "        if day in currGroup:\n",
    "            results.append(len(currGroup))\n",
    "            currGroup = set()\n",
    "        else:\n",
    "            currGroup.add(day)\n",
    "    return results\n"
   ]
  },
  {
   "cell_type": "code",
   "execution_count": 9,
   "metadata": {
    "scrolled": true
   },
   "outputs": [
    {
     "name": "stdout",
     "output_type": "stream",
     "text": [
      "100121\n",
      "CPU times: user 571 ms, sys: 4.28 ms, total: 575 ms\n",
      "Wall time: 573 ms\n"
     ]
    }
   ],
   "source": [
    "%%time\n",
    "a = np.array(sample_until_repeat_bucket(days));"
   ]
  },
  {
   "cell_type": "code",
   "execution_count": 10,
   "metadata": {
    "scrolled": true
   },
   "outputs": [
    {
     "data": {
      "image/png": "[encoded data removed]",
      "text/plain": [
       "<Figure size 432x288 with 1 Axes>"
      ]
     },
     "metadata": {
      "needs_background": "light"
     },
     "output_type": "display_data"
    }
   ],
   "source": [
    "plt.hist(a, bins = np.arange(0,100,1));"
   ]
  }
 ],
 "metadata": {
  "kernelspec": {
   "display_name": "Python 3",
   "language": "python",
   "name": "python3"
  },
  "language_info": {
   "codemirror_mode": {
    "name": "ipython",
    "version": 3
   },
   "file_extension": ".py",
   "mimetype": "text/x-python",
   "name": "python",
   "nbconvert_exporter": "python",
   "pygments_lexer": "ipython3",
   "version": "3.6.9"
  }
 },
 "nbformat": 4,
 "nbformat_minor": 4
}
